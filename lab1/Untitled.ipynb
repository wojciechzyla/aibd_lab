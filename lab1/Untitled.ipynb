{
 "cells": [
  {
   "cell_type": "code",
   "execution_count": 2,
   "id": "22a1a512",
   "metadata": {},
   "outputs": [
    {
     "name": "stdout",
     "output_type": "stream",
     "text": [
      "[6.         5.92003332 5.84339858 5.77009579 5.70012495 5.63348605\n",
      " 5.57017909 5.51020408 5.45356102 5.4002499  5.35027072 5.30362349\n",
      " 5.2603082  5.22032486 5.18367347 5.15035402 5.12036651 5.09371095\n",
      " 5.07038734 5.05039567 5.03373594 5.02040816 5.01041233 5.00374844\n",
      " 5.00041649 5.00041649 5.00374844 5.01041233 5.02040816 5.03373594\n",
      " 5.05039567 5.07038734 5.09371095 5.12036651 5.15035402 5.18367347\n",
      " 5.22032486 5.2603082  5.30362349 5.35027072 5.4002499  5.45356102\n",
      " 5.51020408 5.57017909 5.63348605 5.70012495 5.77009579 5.84339858\n",
      " 5.92003332 6.        ]\n"
     ]
    }
   ],
   "source": [
    "import matplotlib.pyplot as plt\n",
    "import numpy as np\n",
    "\n",
    "f = lambda x:x**2+5\n",
    "\n",
    "x1 = np.linspace(-1,1,50)\n",
    "print(f(x1))"
   ]
  },
  {
   "cell_type": "code",
   "execution_count": null,
   "id": "90f9511c",
   "metadata": {},
   "outputs": [],
   "source": []
  }
 ],
 "metadata": {
  "kernelspec": {
   "display_name": "Python 3",
   "language": "python",
   "name": "python3"
  },
  "language_info": {
   "codemirror_mode": {
    "name": "ipython",
    "version": 3
   },
   "file_extension": ".py",
   "mimetype": "text/x-python",
   "name": "python",
   "nbconvert_exporter": "python",
   "pygments_lexer": "ipython3",
   "version": "3.9.4"
  }
 },
 "nbformat": 4,
 "nbformat_minor": 5
}
