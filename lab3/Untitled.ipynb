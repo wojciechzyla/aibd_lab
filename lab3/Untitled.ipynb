{
 "cells": [
  {
   "cell_type": "code",
   "execution_count": 8,
   "id": "47d24a74",
   "metadata": {},
   "outputs": [
    {
     "name": "stdout",
     "output_type": "stream",
     "text": [
      "Number of categories\n",
      "   count\n",
      "0     16\n"
     ]
    }
   ],
   "source": [
    "import psycopg2 as pg\n",
    "import pandas as pd\n",
    "\n",
    "connection = pg.connect(host='pgsql-196447.vipserv.org', port=5432, dbname='wbauer_adb', user='wbauer_adb', password='adb2020')\n",
    "\n",
    "categories_count = pd.read_sql('SELECT COUNT(name) from category',con=connection)\n",
    "\n",
    "print(f'Number of categories\\n{categories_count}')\n"
   ]
  },
  {
   "cell_type": "code",
   "execution_count": 10,
   "id": "7c605365",
   "metadata": {},
   "outputs": [
    {
     "name": "stdout",
     "output_type": "stream",
     "text": [
      "           name\n",
      "0        Action\n",
      "1     Animation\n",
      "2      Children\n",
      "3      Classics\n",
      "4        Comedy\n",
      "5   Documentary\n",
      "6         Drama\n",
      "7        Family\n",
      "8       Foreign\n",
      "9         Games\n",
      "10       Horror\n",
      "11        Music\n",
      "12          New\n",
      "13       Sci-Fi\n",
      "14       Sports\n",
      "15       Travel\n"
     ]
    }
   ],
   "source": [
    "cat_sorted = pd.read_sql('SELECT name from category ORDER BY name',con=connection)\n",
    "print(cat_sorted)"
   ]
  },
  {
   "cell_type": "code",
   "execution_count": 19,
   "id": "f230ed44",
   "metadata": {},
   "outputs": [
    {
     "name": "stdout",
     "output_type": "stream",
     "text": [
      "             title  release_year\n",
      "0  Chamber Italian          2006\n",
      "\n",
      "\n",
      "\n",
      "             title  release_year\n",
      "0  Chamber Italian          2006\n"
     ]
    }
   ],
   "source": [
    "oldest = pd.read_sql('SELECT title, release_year from film ORDER BY release_year ASC LIMIT 1',con=connection)\n",
    "youngest = pd.read_sql('SELECT title, release_year from film ORDER BY release_year DESC LIMIT 1',con=connection)\n",
    "print(oldest)\n",
    "print(\"\\n\\n\")\n",
    "print(youngest)"
   ]
  },
  {
   "cell_type": "code",
   "execution_count": null,
   "id": "c933c285",
   "metadata": {},
   "outputs": [],
   "source": []
  }
 ],
 "metadata": {
  "kernelspec": {
   "display_name": "Python 3",
   "language": "python",
   "name": "python3"
  },
  "language_info": {
   "codemirror_mode": {
    "name": "ipython",
    "version": 3
   },
   "file_extension": ".py",
   "mimetype": "text/x-python",
   "name": "python",
   "nbconvert_exporter": "python",
   "pygments_lexer": "ipython3",
   "version": "3.9.4"
  }
 },
 "nbformat": 4,
 "nbformat_minor": 5
}
