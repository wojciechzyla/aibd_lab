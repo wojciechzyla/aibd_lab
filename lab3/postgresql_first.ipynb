{
 "cells": [
  {
   "cell_type": "markdown",
   "id": "1bf644a3",
   "metadata": {},
   "source": [
    "Analiza i Bazy Danych\n",
    "===============\n",
    "\n",
    "Wojciech Żyła, piątek 10:45\n",
    "---------------"
   ]
  },
  {
   "cell_type": "markdown",
   "id": "ca0ac21d",
   "metadata": {},
   "source": [
    "### 1. Ile kategorii filmów mamy w wypożyczalni?"
   ]
  },
  {
   "cell_type": "code",
   "execution_count": 1,
   "id": "47d24a74",
   "metadata": {},
   "outputs": [
    {
     "name": "stdout",
     "output_type": "stream",
     "text": [
      "Number of categories\n",
      "   count\n",
      "0     16\n"
     ]
    }
   ],
   "source": [
    "import psycopg2 as pg\n",
    "import pandas as pd\n",
    "\n",
    "connection = pg.connect(host='pgsql-196447.vipserv.org', port=5432, dbname='wbauer_adb', user='wbauer_adb', password='adb2020')\n",
    "\n",
    "categories_count = pd.read_sql('SELECT COUNT(name) from category',con=connection)\n",
    "\n",
    "print(f'Number of categories\\n{categories_count}')\n",
    "\n",
    "# In the database there are 16 categories of films."
   ]
  },
  {
   "cell_type": "markdown",
   "id": "513b9438",
   "metadata": {},
   "source": [
    "### 2. Wyświetl listę kategorii w kolejności alfabetycznej."
   ]
  },
  {
   "cell_type": "code",
   "execution_count": 2,
   "id": "7c605365",
   "metadata": {},
   "outputs": [
    {
     "name": "stdout",
     "output_type": "stream",
     "text": [
      "           name\n",
      "0        Action\n",
      "1     Animation\n",
      "2      Children\n",
      "3      Classics\n",
      "4        Comedy\n",
      "5   Documentary\n",
      "6         Drama\n",
      "7        Family\n",
      "8       Foreign\n",
      "9         Games\n",
      "10       Horror\n",
      "11        Music\n",
      "12          New\n",
      "13       Sci-Fi\n",
      "14       Sports\n",
      "15       Travel\n"
     ]
    }
   ],
   "source": [
    "cat_sorted = pd.read_sql('SELECT name from category ORDER BY name',con=connection)\n",
    "print(cat_sorted)"
   ]
  },
  {
   "cell_type": "markdown",
   "id": "c4444ffb",
   "metadata": {},
   "source": [
    "### 3. Znajdź najstarszy i najmłodszy film do wypożyczenia."
   ]
  },
  {
   "cell_type": "code",
   "execution_count": 3,
   "id": "f230ed44",
   "metadata": {},
   "outputs": [
    {
     "name": "stdout",
     "output_type": "stream",
     "text": [
      "Najstarszy film\n",
      "             title  release_year\n",
      "0  Chamber Italian          2006\n",
      "\n",
      "\n",
      "\n",
      "Najmłodszy film\n",
      "             title  release_year\n",
      "0  Chamber Italian          2006\n"
     ]
    }
   ],
   "source": [
    "\n",
    "oldest = pd.read_sql('SELECT title, release_year from film ORDER BY release_year ASC LIMIT 1',con=connection)\n",
    "youngest = pd.read_sql('SELECT title, release_year from film ORDER BY release_year DESC LIMIT 1',con=connection)\n",
    "print(f\"Najstarszy film\\n{oldest}\")\n",
    "print(\"\\n\\n\")\n",
    "print(f\"Najmłodszy film\\n{youngest}\")\n",
    " \n",
    "# All films were produced in the same year.\n",
    "# For this reason, the database takes the same movie as the oldest and youngest."
   ]
  },
  {
   "cell_type": "markdown",
   "id": "6531f45e",
   "metadata": {},
   "source": [
    "### 4. Ile wypożyczeń odbyło się między 2005-07-01 a 2005-08-01?"
   ]
  },
  {
   "cell_type": "code",
   "execution_count": 4,
   "id": "c933c285",
   "metadata": {},
   "outputs": [
    {
     "name": "stdout",
     "output_type": "stream",
     "text": [
      "   count\n",
      "0   6709\n"
     ]
    }
   ],
   "source": [
    "first_between = pd.read_sql(\"SELECT count(rental_id) FROM rental WHERE rental_date BETWEEN '2005-07-01' AND '2005-08-01'\",con=connection)\n",
    "print(first_between)\n",
    "\n",
    "# Between 2005-07-01 and 2005-08-01 there were 6709 rentals."
   ]
  },
  {
   "cell_type": "markdown",
   "id": "3edd3eaa",
   "metadata": {},
   "source": [
    "### 5. Ile wypożyczeń odbyło się między 2010-01-01 a 2011-02-01?"
   ]
  },
  {
   "cell_type": "code",
   "execution_count": 5,
   "id": "9dae3de5",
   "metadata": {},
   "outputs": [
    {
     "name": "stdout",
     "output_type": "stream",
     "text": [
      "   count\n",
      "0      0\n"
     ]
    }
   ],
   "source": [
    "second_between = pd.read_sql(\"SELECT count(rental_id) FROM rental WHERE rental_date BETWEEN '2010-01-01' AND '2011-02-01'\",con=connection)\n",
    "print(second_between)\n",
    "\n",
    "# Between 2010-01-01 and 2011-02-01 there were 0 rentals."
   ]
  },
  {
   "cell_type": "markdown",
   "id": "379f825a",
   "metadata": {},
   "source": [
    "### 6. Znajdź największą płatność wypożyczenia."
   ]
  },
  {
   "cell_type": "code",
   "execution_count": 6,
   "id": "d1d8e7ee",
   "metadata": {},
   "outputs": [
    {
     "name": "stdout",
     "output_type": "stream",
     "text": [
      "   maxpayment\n",
      "0       11.99\n"
     ]
    }
   ],
   "source": [
    "max_payment = pd.read_sql(\"SELECT MAX(amount) as MaxPayment FROM payment\",con=connection)\n",
    "print(max_payment)\n",
    "\n",
    "# The biggest payment for rental was 11.99"
   ]
  },
  {
   "cell_type": "markdown",
   "id": "5e1b55e8",
   "metadata": {},
   "source": [
    "### 7. Znajdź wszystkich klientów z Polski, Nigerii lub Bangladeszu."
   ]
  },
  {
   "cell_type": "code",
   "execution_count": 7,
   "id": "e8bbebf0",
   "metadata": {},
   "outputs": [
    {
     "name": "stdout",
     "output_type": "stream",
     "text": [
      "   first_name     country             city\n",
      "0       Sonia     Nigeria       Benin City\n",
      "1       Brian      Poland        Bydgoszcz\n",
      "2      Sidney      Poland      Czestochowa\n",
      "3      Rodney     Nigeria        Deba Habe\n",
      "4     Stephen  Bangladesh            Dhaka\n",
      "5       Velma     Nigeria     Effon-Alaiye\n",
      "6     Marilyn     Nigeria              Ife\n",
      "7       Elsie     Nigeria           Ikerre\n",
      "8      Gladys     Nigeria           Ilorin\n",
      "9       Frank  Bangladesh         Jamalpur\n",
      "10   Marjorie      Poland  Jastrzebie-Zdrj\n",
      "11      Carol     Nigeria           Kaduna\n",
      "12       Leah      Poland           Kalisz\n",
      "13      Ruben      Poland           Lublin\n",
      "14       Olga     Nigeria        Ogbomosho\n",
      "15     Bertha     Nigeria             Ondo\n",
      "16     Tracey     Nigeria              Owo\n",
      "17         Jo     Nigeria              Oyo\n",
      "18    Johnnie      Poland            Plock\n",
      "19    Wallace     Nigeria           Sokoto\n",
      "20   Michelle  Bangladesh          Tangail\n",
      "21    Russell      Poland            Tychy\n",
      "22     Jimmie      Poland          Wroclaw\n",
      "23  Constance     Nigeria            Zaria\n"
     ]
    }
   ],
   "source": [
    "clients = pd.read_sql(\"SELECT cu.first_name, co.country,  c.city \\\n",
    "                       FROM customer AS cu\\\n",
    "                       INNER JOIN\\\n",
    "                       address as a\\\n",
    "                       ON cu.address_id = a.address_id\\\n",
    "                       INNER JOIN\\\n",
    "                       city AS c\\\n",
    "                       ON a.city_id = c.city_id\\\n",
    "                       INNER JOIN\\\n",
    "                       country AS co\\\n",
    "                       ON c.country_id = co.country_id\\\n",
    "                       WHERE\\\n",
    "                       co.country IN ('Poland', 'Nigeria', 'Bangladesh')\", con=connection)\n",
    "print(clients)\n",
    "\n",
    "# All of the clients regardless of the country they live in have english names."
   ]
  },
  {
   "cell_type": "markdown",
   "id": "f2de08e4",
   "metadata": {},
   "source": [
    "### 8. Gdzie mieszkają członkowie personelu?"
   ]
  },
  {
   "cell_type": "code",
   "execution_count": 8,
   "id": "5a3b41ef",
   "metadata": {},
   "outputs": [
    {
     "name": "stdout",
     "output_type": "stream",
     "text": [
      "  first_name    country        city               address address2\n",
      "0       Mike     Canada  Lethbridge     23 Workhaven Lane     None\n",
      "1        Jon  Australia   Woodridge  1411 Lillydale Drive     None\n"
     ]
    }
   ],
   "source": [
    "staff = pd.read_sql(\"SELECT s.first_name, co.country, c.city, a.address, a.address2\\\n",
    "                       FROM staff AS s\\\n",
    "                       INNER JOIN\\\n",
    "                       address as a\\\n",
    "                       ON s.address_id = a.address_id\\\n",
    "                       INNER JOIN\\\n",
    "                       city AS c\\\n",
    "                       ON a.city_id = c.city_id\\\n",
    "                       INNER JOIN\\\n",
    "                       country AS co\\\n",
    "                       ON c.country_id = co.country_id\", con=connection)\n",
    "print(staff)"
   ]
  },
  {
   "cell_type": "markdown",
   "id": "b443b1a1",
   "metadata": {},
   "source": [
    "### 9. Ilu pracowników mieszka w Argentynie lub Hiszpanii?"
   ]
  },
  {
   "cell_type": "code",
   "execution_count": 9,
   "id": "e853ba9e",
   "metadata": {},
   "outputs": [
    {
     "name": "stdout",
     "output_type": "stream",
     "text": [
      "   count\n",
      "0      0\n"
     ]
    }
   ],
   "source": [
    "staff_arg_sp = pd.read_sql(\"SELECT count(s.staff_id)\\\n",
    "                           FROM staff AS s\\\n",
    "                           INNER JOIN\\\n",
    "                           address as a\\\n",
    "                           ON s.address_id = a.address_id\\\n",
    "                           INNER JOIN\\\n",
    "                           city AS c\\\n",
    "                           ON a.city_id = c.city_id\\\n",
    "                           INNER JOIN\\\n",
    "                           country AS co\\\n",
    "                           ON c.country_id = co.country_id\\\n",
    "                           WHERE co.country IN ('Spain', 'Argentina')\", con=connection)\n",
    "print(staff_arg_sp)\n",
    "\n",
    "# There are no employees living in Argentina or Spain. From previous exercise \n",
    "# we could have suspected that there are only two members of the staff who live in\n",
    "# Canada and Australia."
   ]
  },
  {
   "cell_type": "markdown",
   "id": "e786e99e",
   "metadata": {},
   "source": [
    "### 10. Jakie kategorie filmów zostały wypożyczone przez klientów?"
   ]
  },
  {
   "cell_type": "code",
   "execution_count": 10,
   "id": "8d5fe38c",
   "metadata": {},
   "outputs": [
    {
     "name": "stdout",
     "output_type": "stream",
     "text": [
      "           name\n",
      "0        Horror\n",
      "1        Comedy\n",
      "2         Drama\n",
      "3        Sci-Fi\n",
      "4       Foreign\n",
      "5      Classics\n",
      "6         Games\n",
      "7        Travel\n",
      "8           New\n",
      "9         Music\n",
      "10       Action\n",
      "11  Documentary\n",
      "12       Sports\n",
      "13    Animation\n",
      "14     Children\n",
      "15       Family\n"
     ]
    }
   ],
   "source": [
    "cat_clients = pd.read_sql(\"SELECT DISTINCT c.name\\\n",
    "                           FROM rental AS r\\\n",
    "                           INNER JOIN\\\n",
    "                           inventory AS i\\\n",
    "                           ON r.inventory_id = i.inventory_id\\\n",
    "                           INNER JOIN\\\n",
    "                           film AS f\\\n",
    "                           ON i.film_id = f.film_id\\\n",
    "                           INNER JOIN\\\n",
    "                           film_category AS fc\\\n",
    "                           ON f.film_id = fc.film_id\\\n",
    "                           INNER JOIN\\\n",
    "                           category AS c\\\n",
    "                           ON fc.category_id = c.category_id\", con=connection)\n",
    "\n",
    "print(cat_clients)"
   ]
  },
  {
   "cell_type": "markdown",
   "id": "4ef219de",
   "metadata": {},
   "source": [
    "### 11. Znajdź wszystkie kategorie filmów wypożyczonych w Ameryce."
   ]
  },
  {
   "cell_type": "code",
   "execution_count": 11,
   "id": "420a3816",
   "metadata": {},
   "outputs": [
    {
     "name": "stdout",
     "output_type": "stream",
     "text": [
      "Afghanistan\n",
      "Algeria\n",
      "American Samoa\n",
      "Angola\n",
      "Anguilla\n",
      "Argentina\n",
      "Armenia\n",
      "Australia\n",
      "Austria\n",
      "Azerbaijan\n",
      "Bahrain\n",
      "Bangladesh\n",
      "Belarus\n",
      "Bolivia\n",
      "Brazil\n",
      "Brunei\n",
      "Bulgaria\n",
      "Cambodia\n",
      "Cameroon\n",
      "Canada\n",
      "Chad\n",
      "Chile\n",
      "China\n",
      "Colombia\n",
      "Congo, The Democratic Republic of the\n",
      "Czech Republic\n",
      "Dominican Republic\n",
      "Ecuador\n",
      "Egypt\n",
      "Estonia\n",
      "Ethiopia\n",
      "Faroe Islands\n",
      "Finland\n",
      "France\n",
      "French Guiana\n",
      "French Polynesia\n",
      "Gambia\n",
      "Germany\n",
      "Greece\n",
      "Greenland\n",
      "Holy See (Vatican City State)\n",
      "Hong Kong\n",
      "Hungary\n",
      "India\n",
      "Indonesia\n",
      "Iran\n",
      "Iraq\n",
      "Israel\n",
      "Italy\n",
      "Japan\n",
      "Kazakstan\n",
      "Kenya\n",
      "Kuwait\n",
      "Latvia\n",
      "Liechtenstein\n",
      "Lithuania\n",
      "Madagascar\n",
      "Malawi\n",
      "Malaysia\n",
      "Mexico\n",
      "Moldova\n",
      "Morocco\n",
      "Mozambique\n",
      "Myanmar\n",
      "Nauru\n",
      "Nepal\n",
      "Netherlands\n",
      "New Zealand\n",
      "Nigeria\n",
      "North Korea\n",
      "Oman\n",
      "Pakistan\n",
      "Paraguay\n",
      "Peru\n",
      "Philippines\n",
      "Poland\n",
      "Puerto Rico\n",
      "Romania\n",
      "Runion\n",
      "Russian Federation\n",
      "Saint Vincent and the Grenadines\n",
      "Saudi Arabia\n",
      "Senegal\n",
      "Slovakia\n",
      "South Africa\n",
      "South Korea\n",
      "Spain\n",
      "Sri Lanka\n",
      "Sudan\n",
      "Sweden\n",
      "Switzerland\n",
      "Taiwan\n",
      "Tanzania\n",
      "Thailand\n",
      "Tonga\n",
      "Tunisia\n",
      "Turkey\n",
      "Turkmenistan\n",
      "Tuvalu\n",
      "Ukraine\n",
      "United Arab Emirates\n",
      "United Kingdom\n",
      "United States\n",
      "Venezuela\n",
      "Vietnam\n",
      "Virgin Islands, U.S.\n",
      "Yemen\n",
      "Yugoslavia\n",
      "Zambia\n"
     ]
    }
   ],
   "source": [
    "distinct_countries = pd.read_sql(\"SELECT country FROM country\", con=connection)\n",
    "\n",
    "# Names of the countries\n",
    "for i, row in distinct_countries.iterrows():\n",
    "    print(row[\"country\"])"
   ]
  },
  {
   "cell_type": "code",
   "execution_count": 12,
   "id": "8acdd4b4",
   "metadata": {},
   "outputs": [
    {
     "name": "stdout",
     "output_type": "stream",
     "text": [
      "Empty DataFrame\n",
      "Columns: [name]\n",
      "Index: []\n"
     ]
    }
   ],
   "source": [
    "cat_in_usa = pd.read_sql(\"SELECT DISTINCT c.name\\\n",
    "                           FROM rental AS r\\\n",
    "                           INNER JOIN\\\n",
    "                           inventory AS i\\\n",
    "                           ON r.inventory_id = i.inventory_id\\\n",
    "                           INNER JOIN\\\n",
    "                           film AS f\\\n",
    "                           ON i.film_id = f.film_id\\\n",
    "                           INNER JOIN\\\n",
    "                           film_category AS fc\\\n",
    "                           ON f.film_id = fc.film_id\\\n",
    "                           INNER JOIN\\\n",
    "                           category AS c\\\n",
    "                           ON fc.category_id = c.category_id\\\n",
    "                           INNER JOIN\\\n",
    "                           store AS st\\\n",
    "                           ON i.store_id = st.store_id\\\n",
    "                           INNER JOIN\\\n",
    "                           address as adr\\\n",
    "                           ON st.address_id = adr.address_id\\\n",
    "                           INNER JOIN\\\n",
    "                           city AS cit\\\n",
    "                           ON adr.city_id = cit.city_id\\\n",
    "                           INNER JOIN\\\n",
    "                           country AS cou\\\n",
    "                           ON cit.country_id = cou.country_id\\\n",
    "                           WHERE cou.country = 'United States'\", con=connection)\n",
    "print(cat_in_usa)\n",
    "\n",
    "# There are no rentals in USA."
   ]
  },
  {
   "cell_type": "code",
   "execution_count": 13,
   "id": "225884f6",
   "metadata": {},
   "outputs": [
    {
     "name": "stdout",
     "output_type": "stream",
     "text": [
      "     country\n",
      "0  Australia\n",
      "1     Canada\n"
     ]
    }
   ],
   "source": [
    "rent_countries = pd.read_sql(\"SELECT DISTINCT c.country\\\n",
    "                              FROM rental AS r\\\n",
    "                              INNER JOIN\\\n",
    "                              inventory AS i\\\n",
    "                              ON r.inventory_id = i.inventory_id\\\n",
    "                              INNER JOIN\\\n",
    "                               store AS s\\\n",
    "                               ON i.store_id = s.store_id\\\n",
    "                               INNER JOIN\\\n",
    "                               address as a\\\n",
    "                               ON s.address_id = a.address_id\\\n",
    "                               INNER JOIN\\\n",
    "                               city AS cit\\\n",
    "                               ON a.city_id = cit.city_id\\\n",
    "                               INNER JOIN\\\n",
    "                               country AS c\\\n",
    "                               ON cit.country_id = c.country_id\", con=connection)\n",
    "print(rent_countries)\n",
    "\n",
    "# The only two countries where films were rented are Australia and Canada."
   ]
  },
  {
   "cell_type": "markdown",
   "id": "cea2eef9",
   "metadata": {},
   "source": [
    "### 12. Znajdź wszystkie tytuły filmów, w których grał: Olympia Pfeiffer lub Julia Zellweger lub Ellen Presley"
   ]
  },
  {
   "cell_type": "code",
   "execution_count": 14,
   "id": "1c305cbe",
   "metadata": {},
   "outputs": [
    {
     "name": "stdout",
     "output_type": "stream",
     "text": [
      "Bilko Anonymous | Ellen | Presley\n",
      "Caribbean Liberty | Ellen | Presley\n",
      "Casper Dragonfly | Ellen | Presley\n",
      "Empire Malkovich | Ellen | Presley\n",
      "Floats Garden | Ellen | Presley\n",
      "Frogmen Breaking | Ellen | Presley\n",
      "Homeward Cider | Ellen | Presley\n",
      "Hyde Doctor | Ellen | Presley\n",
      "Image Princess | Ellen | Presley\n",
      "Jacket Frisco | Ellen | Presley\n",
      "Microcosmos Paradise | Ellen | Presley\n",
      "Network Peak | Ellen | Presley\n",
      "Oscar Gold | Ellen | Presley\n",
      "Pickup Driving | Ellen | Presley\n",
      "Pinocchio Simon | Ellen | Presley\n",
      "Private Drop | Ellen | Presley\n",
      "Roots Remember | Ellen | Presley\n",
      "Scarface Bang | Ellen | Presley\n",
      "Secretary Rouge | Ellen | Presley\n",
      "Spy Mile | Ellen | Presley\n",
      "Streetcar Intentions | Ellen | Presley\n",
      "Tadpole Park | Ellen | Presley\n",
      "Treasure Command | Ellen | Presley\n",
      "Turn Star | Ellen | Presley\n",
      "Women Dorado | Ellen | Presley\n",
      "Badman Dawn | Olympia | Pfeiffer\n",
      "Chitty Lock | Olympia | Pfeiffer\n",
      "Color Philadelphia | Olympia | Pfeiffer\n",
      "Contact Anonymous | Olympia | Pfeiffer\n",
      "Deep Crusade | Olympia | Pfeiffer\n",
      "Effect Gladiator | Olympia | Pfeiffer\n",
      "Express Lonely | Olympia | Pfeiffer\n",
      "Firehouse Vietnam | Olympia | Pfeiffer\n",
      "Fugitive Maguire | Olympia | Pfeiffer\n",
      "Hanky October | Olympia | Pfeiffer\n",
      "Ice Crossing | Olympia | Pfeiffer\n",
      "Idols Snatchers | Olympia | Pfeiffer\n",
      "Intolerable Intentions | Olympia | Pfeiffer\n",
      "Magnolia Forrester | Olympia | Pfeiffer\n",
      "Mars Roman | Olympia | Pfeiffer\n",
      "Maude Mod | Olympia | Pfeiffer\n",
      "Murder Antitrust | Olympia | Pfeiffer\n",
      "None Spiking | Olympia | Pfeiffer\n",
      "Others Soup | Olympia | Pfeiffer\n",
      "Psycho Shrunk | Olympia | Pfeiffer\n",
      "Santa Paris | Olympia | Pfeiffer\n",
      "Sense Greek | Olympia | Pfeiffer\n",
      "Storm Happiness | Olympia | Pfeiffer\n",
      "Sweet Brotherhood | Olympia | Pfeiffer\n",
      "Titanic Boondock | Olympia | Pfeiffer\n",
      "Tourist Pelican | Olympia | Pfeiffer\n",
      "Traffic Hobbit | Olympia | Pfeiffer\n",
      "Wait Cider | Olympia | Pfeiffer\n",
      "Breakfast Goldfinger | Julia | Zellweger\n",
      "Cranes Reservoir | Julia | Zellweger\n",
      "Dares Pluto | Julia | Zellweger\n",
      "Detective Vision | Julia | Zellweger\n",
      "Divorce Shining | Julia | Zellweger\n",
      "Hollow Jeopardy | Julia | Zellweger\n",
      "Jeopardy Encino | Julia | Zellweger\n",
      "Lambs Cincinatti | Julia | Zellweger\n",
      "Majestic Floats | Julia | Zellweger\n",
      "Minds Truman | Julia | Zellweger\n",
      "Open African | Julia | Zellweger\n",
      "Outlaw Hanky | Julia | Zellweger\n",
      "Panky Submarine | Julia | Zellweger\n",
      "Rider Caddyshack | Julia | Zellweger\n",
      "Won Dares | Julia | Zellweger\n",
      "Wyoming Storm | Julia | Zellweger\n"
     ]
    }
   ],
   "source": [
    "films_actors = pd.read_sql(\"SELECT title, a.first_name, a.last_name\\\n",
    "                            FROM film AS f\\\n",
    "                            INNER JOIN\\\n",
    "                            film_actor AS fa\\\n",
    "                            ON f.film_id = fa.film_id\\\n",
    "                            INNER JOIN\\\n",
    "                            actor AS a\\\n",
    "                            ON fa.actor_id = a.actor_id\\\n",
    "                            WHERE (a.first_name = 'Olympia' AND a.last_name = 'Pfeiffer')\\\n",
    "                            OR (a.first_name = 'Julia' AND a.last_name = 'Zellweger')\\\n",
    "                            OR (a.first_name = 'Ellen' AND a.last_name = 'Presley')\", con=connection)\n",
    "# Print titles\n",
    "for i, row in films_actors.iterrows():\n",
    "    print(f\"{row['title']} | {row['first_name']} | {row['last_name']}\")"
   ]
  },
  {
   "cell_type": "code",
   "execution_count": null,
   "id": "c4302d0d",
   "metadata": {},
   "outputs": [],
   "source": []
  }
 ],
 "metadata": {
  "kernelspec": {
   "display_name": "Python 3",
   "language": "python",
   "name": "python3"
  },
  "language_info": {
   "codemirror_mode": {
    "name": "ipython",
    "version": 3
   },
   "file_extension": ".py",
   "mimetype": "text/x-python",
   "name": "python",
   "nbconvert_exporter": "python",
   "pygments_lexer": "ipython3",
   "version": "3.9.4"
  }
 },
 "nbformat": 4,
 "nbformat_minor": 5
}
